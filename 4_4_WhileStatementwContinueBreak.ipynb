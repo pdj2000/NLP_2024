{
  "nbformat": 4,
  "nbformat_minor": 0,
  "metadata": {
    "colab": {
      "provenance": [],
      "include_colab_link": true
    },
    "kernelspec": {
      "name": "python3",
      "display_name": "Python 3"
    },
    "language_info": {
      "name": "python"
    }
  },
  "cells": [
    {
      "cell_type": "markdown",
      "metadata": {
        "id": "view-in-github",
        "colab_type": "text"
      },
      "source": [
        "<a href=\"https://colab.research.google.com/github/pdj2000/NLP_2024/blob/main/4_4_WhileStatementwContinueBreak.ipynb\" target=\"_parent\"><img src=\"https://colab.research.google.com/assets/colab-badge.svg\" alt=\"Open In Colab\"/></a>"
      ]
    },
    {
      "cell_type": "markdown",
      "source": [
        "# 🅰️ ➿ **While statement 🔄 Loop**\n",
        "\n",
        "- It executes repeatedly a block of code <font color = 'red'> as long as a certain condition is true.\n",
        "  - It creates loops where you want to perform a task repeatedly <font color = 'red'> until a specified condition becomes false."
      ],
      "metadata": {
        "id": "DR869DSG8AZi"
      }
    },
    {
      "cell_type": "markdown",
      "source": [
        "While Statement 1"
      ],
      "metadata": {
        "id": "6nqSBDMttgFS"
      }
    },
    {
      "cell_type": "markdown",
      "source": [
        "#### ⏳ <font color = 'blue'> Using the same variable name for simplicity and clarity is preferred, especially in situations like loops where the purpose of the variable is clear and consistent.\n",
        "\n",
        "e.g., count +=1\n",
        "- In Python, the assignment statement counter += 1 is a shorthand notation for counter = counter + 1. Here, the variable counter is being incremented by 1, and the result is assigned back to the same variable counter."
      ],
      "metadata": {
        "id": "N-4xWtfuZl6O"
      }
    },
    {
      "cell_type": "code",
      "source": [
        "counter = 1  # Initialize a counter variable\n",
        "\n",
        "while counter <= 5:  # Condition: Continue while counter is less than or equal to 5\n",
        "    print(counter)  # Print the current value of the counter\n",
        "    counter += 1  # Increment the counter by 1 in each iteration (i.e., counter = counter +1)\n",
        "\n",
        "\n",
        "print(\"Loop finished!\")"
      ],
      "metadata": {
        "colab": {
          "base_uri": "https://localhost:8080/"
        },
        "id": "HBQ4o4AitM6k",
        "outputId": "27a70feb-c1c6-47f6-cc64-112199fbbf3b"
      },
      "execution_count": null,
      "outputs": [
        {
          "output_type": "stream",
          "name": "stdout",
          "text": [
            "1\n",
            "2\n",
            "3\n",
            "4\n",
            "5\n",
            "Loop finished!\n"
          ]
        }
      ]
    },
    {
      "cell_type": "code",
      "source": [
        "counter = 1\n",
        "\n",
        "while counter <= 5:\n",
        "  print(counter)\n",
        "  counter += 1\n",
        "\n",
        "print(\"Loop finished!\")\n",
        "\n"
      ],
      "metadata": {
        "id": "wb5uWK1V0OVZ",
        "outputId": "57c43bb9-18c2-4dc1-d687-4393f196f652",
        "colab": {
          "base_uri": "https://localhost:8080/"
        }
      },
      "execution_count": 1,
      "outputs": [
        {
          "output_type": "stream",
          "name": "stdout",
          "text": [
            "1\n",
            "2\n",
            "3\n",
            "4\n",
            "5\n",
            "Loop finished!\n"
          ]
        }
      ]
    },
    {
      "cell_type": "markdown",
      "source": [
        "One more exercise for a shorthand notation"
      ],
      "metadata": {
        "id": "JcyhHJ87afoP"
      }
    },
    {
      "cell_type": "code",
      "source": [
        "x = 5\n",
        "x *= 2  # Equivalent to: x = x * 2\n",
        "print(x)  # Output: 10"
      ],
      "metadata": {
        "colab": {
          "base_uri": "https://localhost:8080/"
        },
        "id": "w-X5NPBWagIV",
        "outputId": "81c6a990-4c33-41ed-ae29-531a02022c29"
      },
      "execution_count": null,
      "outputs": [
        {
          "output_type": "stream",
          "name": "stdout",
          "text": [
            "10\n"
          ]
        }
      ]
    },
    {
      "cell_type": "code",
      "source": [
        "x = 5\n",
        "x *= 2\n",
        "print(x)"
      ],
      "metadata": {
        "id": "fMUw0ugN2P9Y",
        "outputId": "9304f1ed-f814-46c7-fe3b-fb8eb8ee1e9d",
        "colab": {
          "base_uri": "https://localhost:8080/"
        }
      },
      "execution_count": 2,
      "outputs": [
        {
          "output_type": "stream",
          "name": "stdout",
          "text": [
            "10\n"
          ]
        }
      ]
    },
    {
      "cell_type": "code",
      "source": [
        "x = 5\n",
        "x *= 366\n",
        "print(x)"
      ],
      "metadata": {
        "id": "e-FwbtIB2P8Z",
        "outputId": "d0750c0c-291a-416d-bb57-92e991febd58",
        "colab": {
          "base_uri": "https://localhost:8080/"
        }
      },
      "execution_count": 3,
      "outputs": [
        {
          "output_type": "stream",
          "name": "stdout",
          "text": [
            "1830\n"
          ]
        }
      ]
    },
    {
      "cell_type": "code",
      "source": [
        "x = 5\n",
        "x /= 2\n",
        "print(x)"
      ],
      "metadata": {
        "id": "qPlZvzWx2sCy",
        "outputId": "81b35385-1fb0-4cab-9e97-f37cf5c23ec1",
        "colab": {
          "base_uri": "https://localhost:8080/"
        }
      },
      "execution_count": 5,
      "outputs": [
        {
          "output_type": "stream",
          "name": "stdout",
          "text": [
            "2.5\n"
          ]
        }
      ]
    },
    {
      "cell_type": "code",
      "source": [
        "x"
      ],
      "metadata": {
        "id": "3ddGryvt2PK5"
      },
      "execution_count": null,
      "outputs": []
    }
  ]
}