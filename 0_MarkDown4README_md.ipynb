{
  "nbformat": 4,
  "nbformat_minor": 0,
  "metadata": {
    "colab": {
      "provenance": [],
      "include_colab_link": true
    },
    "kernelspec": {
      "name": "python3",
      "display_name": "Python 3"
    },
    "language_info": {
      "name": "python"
    }
  },
  "cells": [
    {
      "cell_type": "markdown",
      "metadata": {
        "id": "view-in-github",
        "colab_type": "text"
      },
      "source": [
        "<a href=\"https://colab.research.google.com/github/pdj2000/NLP_2024/blob/main/0_MarkDown4README_md.ipynb\" target=\"_parent\"><img src=\"https://colab.research.google.com/assets/colab-badge.svg\" alt=\"Open In Colab\"/></a>"
      ]
    },
    {
      "cell_type": "markdown",
      "source": [
        "# ✂️✏️📌 **How to Use <font color = 'red'> Markdown Language**\n",
        "\n",
        "#**How to use <font color = 'red'> markdown</font> language**\n",
        "\n",
        "[Click _here_!](https://www.markdownguide.org/basic-syntax/)\n",
        "* ## For <font color = 'orange'> more syntax</font> of markdown langauge, [Click here.](https://www.markdownguide.org/basic-syntax/)\n",
        "\n",
        "**Python** Language\n",
        "\n",
        "\n",
        "\n",
        "\n",
        "| # | Book name | Authors |\n",
        "|:--:|:--:|:--:|\n",
        "| 1 | Divine Comedy ✨ | [Dante Alighieri](https://en.wikipedia.org/wiki/Dante_Alighieri)|\n",
        "| 2 | The Murders in the Rue Morgue 🐒 | [Edgar Allan Poe](https://en.wikipedia.org/wiki/Edgar_Allan_Poe)|"
      ],
      "metadata": {
        "id": "nFyrb7heQOTL"
      }
    },
    {
      "cell_type": "markdown",
      "source": [
        "# ✂️✏️📌 **How to Use <font color = 'red'> Markdown Language**\n",
        "\n",
        "#**How to use <font color = 'red'> markdown</font> language**\n",
        "\n",
        "[Click _here_!](https://www.markdownguide.org/basic-syntax/)\n",
        "* ## For <font color = 'orange'> more syntax</font> of markdown langauge, [Click here.](https://www.markdownguide.org/basic-syntax/)\n",
        "\n",
        "**Python** Language"
      ],
      "metadata": {
        "id": "6kLUP2PIy9yK"
      }
    },
    {
      "cell_type": "markdown",
      "source": [
        "# ✂️✏️📌 **How to Use <font color = 'red'> Markdown Language**\n",
        "\n",
        "#**How to use <font color = 'red'> markdown</font> language**\n",
        "\n",
        "[Click _here_!](https://www.markdownguide.org/basic-syntax/)\n",
        "* ## For <font color = 'orange'> more syntax</font> of markdown langauge, [Click here.](https://www.markdownguide.org/basic-syntax/)\n",
        "\n",
        "**Python** Language\n",
        "\n",
        "#😺 **we are free <font color = 'blue'> but**\n",
        "\n",
        "#**how to use <font color = 'yellow'. markdown/font> language**\n",
        "\n",
        "[Click _here_!](https://www.markdownguide.org/basic-syntax/)\n",
        "*## For <font color = 'red'> more syntax</font> or markdow langauge,\n",
        "[click here.](https://www.markdownguide.org/basic-syntax/)\n",
        "\n"
      ],
      "metadata": {
        "id": "tQk9RhO7zZto"
      }
    },
    {
      "cell_type": "markdown",
      "source": [],
      "metadata": {
        "id": "XWmZa-qYzYZ3"
      }
    },
    {
      "cell_type": "markdown",
      "source": [],
      "metadata": {
        "id": "M2yPGL9izXkT"
      }
    },
    {
      "cell_type": "markdown",
      "source": [
        "#**Textbooks**\n",
        "\n",
        "- [파이썬200제](https://wikidocs.net/book/1)"
      ],
      "metadata": {
        "id": "2Wy7Cx5f9G3W"
      }
    },
    {
      "cell_type": "markdown",
      "source": [
        ":# NLP_2024\n",
        "\n",
        "# 🐹🍦 **Python Language**\n",
        "\n",
        "## **Learning Python** using **Colab** ([Visit Colab homepage](https://colab.research.google.com/?utm_source=scs-index)) and **Github** ([Visit Github homepage](https://github.com/))\n",
        "\n",
        "### **1. Sign up github** ([Visit a tutorial on Youtube](https://www.youtube.com/watch?v=c-NikCpec7U))\n",
        "### **2. Sign up Google Colaboratory** (aka. Colab) ([Visit a tutorial on Youtube](https://www.youtube.com/watch?v=2X_EU18OeYM))\n",
        "\n",
        "### **3. Useful References**\n",
        "- Exercises 200 파이썬200제 by 장삼용. 정보문화사 2017\n",
        "- [Jump to Python](https://wikidocs.net/book/1)\n",
        "- [wikidocs for nltk](https://wikidocs.net/21667)\n",
        "\n",
        "### **4. Markdown Language**\n",
        "* [Emoji](https://gist.github.com/rxaviers/7360908)\n",
        "* [Markdown syntax](https://www.markdownguide.org/basic-syntax/)\n",
        "\n",
        "### **5. Class Materials**\n",
        "| # | Sessions | Keywords |\n",
        "|:--:|:--:|:--:|\n",
        "| 1 | Markdown Language 👪  | [syntax](https://github.com/ms624atyale/NLP_2024/blob/main/0_MarkDown4README_md.ipynb)|  \n",
        "|2|homework|[visit instrucor's githun page](https://github.com/ms624atyale)|"
      ],
      "metadata": {
        "id": "OtctgkT2NOCS"
      }
    },
    {
      "cell_type": "markdown",
      "source": [
        "# **Python library**\n",
        "\n",
        "#**Learning python** using **colab** and come to the [library homepage](https://hanul.hannam.ac.kr/)\n",
        "\n",
        "- this is the librarian\n",
        "- what is the [DDC?](https://en.wikipedia.org/wiki/Dewey_Decimal_Classification)\n",
        "- what is the [KDC?](https://ko.wikipedia.org/wiki/%ED%95%9C%EA%B5%AD%EC%8B%AD%EC%A7%84%EB%B6%84%EB%A5%98%EB%B2%95)\n",
        "\n"
      ],
      "metadata": {
        "id": "wpERptYhgDQn"
      }
    },
    {
      "cell_type": "markdown",
      "source": [
        "#**Fight club**\n",
        "| # | martial art | fighter |\n",
        "|:--:|:--:|:--:|\n",
        "|1| boxing | tyson |\n",
        "|2| karate | ooyama |"
      ],
      "metadata": {
        "id": "xSa036fU2hnE"
      }
    },
    {
      "cell_type": "markdown",
      "source": [
        "#**대전광역시 맛집**\n",
        "| # | 중구 | 서구 |\n",
        "|:--:|:--:|:--:|\n",
        "|1|[무겐](https://map.naver.com/p/entry/place/31382300?lng=127.4049161&lat=36.3228241&placePath=%2Fhome&entry=plt&searchType=place)|[풍바오](https://map.naver.com/p/entry/place/1869131042?lng=127.3765025&lat=36.3503917&placePath=%2Fhome&entry=plt&searchType=place)|\n",
        "|2|[소바노하나](https://map.naver.com/p/entry/place/350735966?lng=127.4155697&lat=36.3224965&placePath=%2Fhome&entry=plt&searchType=place)|[우츠](https://map.naver.com/p/entry/place/1316400182?lng=127.3722359&lat=36.3527208&placePath=%2Fhome&entry=plt&searchType=place)|\n"
      ],
      "metadata": {
        "id": "VR-tu5HS3JDr"
      }
    },
    {
      "cell_type": "markdown",
      "source": [
        "#**<font color = 'blue'>대전광역시 도서관</font>**\n",
        "| # | 공공도서관 | 작은 도서관|\n",
        "|:--:|:--:|:--:|\n",
        "| 1 | [한밭도서관](https://www.daejeon.go.kr/hanbatlibrary/index.do) | [탄방길 작은도서관](https://map.naver.com/p/search/%EB%8C%80%EC%A0%84%20%EC%9E%91%EC%9D%80%EB%8F%84%EC%84%9C%EA%B4%80/place/1935292957?placePath=?entry=pll&from=nx&fromNxList=true&searchType=place&c=15.00,0,0,0,dh)|"
      ],
      "metadata": {
        "id": "dxfSjN-wO4Jl"
      }
    },
    {
      "cell_type": "markdown",
      "source": [
        "#**<font color = 'blue'>게임 추천 목록</font>**\n",
        "| # | RPG | FPS |\n",
        "|:--:|:--:|:--:|\n",
        "| 1 | [와우](https://kr.shop.battle.net/ko-kr/family/world-of-warcraft) | [발로란트](https://playvalorant.com/ko-kr/)|"
      ],
      "metadata": {
        "id": "5fmkVkoA2vcr"
      }
    }
  ]
}